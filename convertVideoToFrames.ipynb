{
  "nbformat": 4,
  "nbformat_minor": 0,
  "metadata": {
    "colab": {
      "provenance": [],
      "gpuType": "T4"
    },
    "kernelspec": {
      "name": "python3",
      "display_name": "Python 3"
    },
    "language_info": {
      "name": "python"
    },
    "accelerator": "GPU"
  },
  "cells": [
    {
      "cell_type": "code",
      "source": [
        "# Step 1: Install FFmpeg\n",
        "!apt-get install ffmpeg"
      ],
      "metadata": {
        "colab": {
          "base_uri": "https://localhost:8080/"
        },
        "id": "KkNThcc-dwOU",
        "outputId": "6c96bf33-26fc-4828-f8b6-8910926a48e9"
      },
      "execution_count": 4,
      "outputs": [
        {
          "output_type": "stream",
          "name": "stdout",
          "text": [
            "Reading package lists... Done\n",
            "Building dependency tree... Done\n",
            "Reading state information... Done\n",
            "ffmpeg is already the newest version (7:4.4.2-0ubuntu0.22.04.1).\n",
            "0 upgraded, 0 newly installed, 0 to remove and 49 not upgraded.\n"
          ]
        }
      ]
    },
    {
      "cell_type": "code",
      "source": [
        "# Step 2: Upload your video file\n",
        "from google.colab import drive\n",
        "drive.mount('/content/drive')"
      ],
      "metadata": {
        "colab": {
          "base_uri": "https://localhost:8080/"
        },
        "id": "TNzCUKsheGr9",
        "outputId": "4608af48-7d32-49db-9992-a2360152da21"
      },
      "execution_count": 5,
      "outputs": [
        {
          "output_type": "stream",
          "name": "stdout",
          "text": [
            "Mounted at /content/drive\n"
          ]
        }
      ]
    },
    {
      "cell_type": "code",
      "source": [
        "import os\n",
        "\n",
        "# Define the video path from Google Drive\n",
        "video_path = '/content/drive/MyDrive/VAME_Example/video-1.mp4'\n",
        "video_name = os.path.splitext(os.path.basename(video_path))[0]\n",
        "\n",
        "# Create a directory for the extracted frames\n",
        "os.makedirs(video_name, exist_ok=True)\n",
        "\n",
        "# Use FFmpeg to extract frames\n",
        "!ffmpeg -i {video_path} -vf \"select='not(mod(n, 10))'\" -vsync vfr -frames:v 100 {video_name}/frame_%04d.png"
      ],
      "metadata": {
        "colab": {
          "base_uri": "https://localhost:8080/"
        },
        "id": "FvgBQGNSdYPL",
        "outputId": "384a703b-c6ff-4198-8447-51ee317885e4"
      },
      "execution_count": 17,
      "outputs": [
        {
          "output_type": "stream",
          "name": "stdout",
          "text": [
            "ffmpeg version 4.4.2-0ubuntu0.22.04.1 Copyright (c) 2000-2021 the FFmpeg developers\n",
            "  built with gcc 11 (Ubuntu 11.2.0-19ubuntu1)\n",
            "  configuration: --prefix=/usr --extra-version=0ubuntu0.22.04.1 --toolchain=hardened --libdir=/usr/lib/x86_64-linux-gnu --incdir=/usr/include/x86_64-linux-gnu --arch=amd64 --enable-gpl --disable-stripping --enable-gnutls --enable-ladspa --enable-libaom --enable-libass --enable-libbluray --enable-libbs2b --enable-libcaca --enable-libcdio --enable-libcodec2 --enable-libdav1d --enable-libflite --enable-libfontconfig --enable-libfreetype --enable-libfribidi --enable-libgme --enable-libgsm --enable-libjack --enable-libmp3lame --enable-libmysofa --enable-libopenjpeg --enable-libopenmpt --enable-libopus --enable-libpulse --enable-librabbitmq --enable-librubberband --enable-libshine --enable-libsnappy --enable-libsoxr --enable-libspeex --enable-libsrt --enable-libssh --enable-libtheora --enable-libtwolame --enable-libvidstab --enable-libvorbis --enable-libvpx --enable-libwebp --enable-libx265 --enable-libxml2 --enable-libxvid --enable-libzimg --enable-libzmq --enable-libzvbi --enable-lv2 --enable-omx --enable-openal --enable-opencl --enable-opengl --enable-sdl2 --enable-pocketsphinx --enable-librsvg --enable-libmfx --enable-libdc1394 --enable-libdrm --enable-libiec61883 --enable-chromaprint --enable-frei0r --enable-libx264 --enable-shared\n",
            "  libavutil      56. 70.100 / 56. 70.100\n",
            "  libavcodec     58.134.100 / 58.134.100\n",
            "  libavformat    58. 76.100 / 58. 76.100\n",
            "  libavdevice    58. 13.100 / 58. 13.100\n",
            "  libavfilter     7.110.100 /  7.110.100\n",
            "  libswscale      5.  9.100 /  5.  9.100\n",
            "  libswresample   3.  9.100 /  3.  9.100\n",
            "  libpostproc    55.  9.100 / 55.  9.100\n",
            "Input #0, mov,mp4,m4a,3gp,3g2,mj2, from '/content/drive/MyDrive/VAME_Example/video-1.mp4':\n",
            "  Metadata:\n",
            "    major_brand     : isom\n",
            "    minor_version   : 512\n",
            "    compatible_brands: isomiso2mp41\n",
            "    encoder         : Lavf60.16.100\n",
            "  Duration: 00:03:22.20, start: 0.000000, bitrate: 981 kb/s\n",
            "  Stream #0:0(und): Video: mpeg4 (Simple Profile) (mp4v / 0x7634706D), yuv420p, 640x480 [SAR 1:1 DAR 4:3], 980 kb/s, 30 fps, 30 tbr, 15360 tbn, 30 tbc (default)\n",
            "    Metadata:\n",
            "      handler_name    : VideoHandler\n",
            "      vendor_id       : [0][0][0][0]\n",
            "Stream mapping:\n",
            "  Stream #0:0 -> #0:0 (mpeg4 (native) -> png (native))\n",
            "Press [q] to stop, [?] for help\n",
            "Output #0, image2, to 'video-1/frame_%04d.png':\n",
            "  Metadata:\n",
            "    major_brand     : isom\n",
            "    minor_version   : 512\n",
            "    compatible_brands: isomiso2mp41\n",
            "    encoder         : Lavf58.76.100\n",
            "  Stream #0:0(und): Video: png, rgb24(pc, gbr/unknown/unknown, progressive), 640x480 [SAR 1:1 DAR 4:3], q=2-31, 200 kb/s, 30 fps, 30 tbn (default)\n",
            "    Metadata:\n",
            "      handler_name    : VideoHandler\n",
            "      vendor_id       : [0][0][0][0]\n",
            "      encoder         : Lavc58.134.100 png\n",
            "frame=  100 fps= 39 q=-0.0 Lsize=N/A time=00:00:33.03 bitrate=N/A speed=12.8x    \n",
            "video:32700kB audio:0kB subtitle:0kB other streams:0kB global headers:0kB muxing overhead: unknown\n"
          ]
        }
      ]
    },
    {
      "cell_type": "code",
      "source": [
        "import shutil\n",
        "\n",
        "# Remove the directory and all its contents\n",
        "shutil.rmtree('video-1')"
      ],
      "metadata": {
        "id": "Xr3iDhkPg-UI"
      },
      "execution_count": 14,
      "outputs": []
    },
    {
      "cell_type": "code",
      "source": [
        "os.remove('video-1.zip')"
      ],
      "metadata": {
        "id": "lQKXL9U4hpfU"
      },
      "execution_count": 16,
      "outputs": []
    },
    {
      "cell_type": "code",
      "source": [
        "# Zip the folder containing the frames\n",
        "!zip -r {video_name}.zip {video_name}"
      ],
      "metadata": {
        "colab": {
          "base_uri": "https://localhost:8080/"
        },
        "id": "bq-Vrxb6gUdC",
        "outputId": "6c5f01eb-f988-48f2-f413-b5e35545af33"
      },
      "execution_count": 18,
      "outputs": [
        {
          "output_type": "stream",
          "name": "stdout",
          "text": [
            "  adding: video-1/ (stored 0%)\n",
            "  adding: video-1/frame_0028.png (deflated 0%)\n",
            "  adding: video-1/frame_0082.png (deflated 0%)\n",
            "  adding: video-1/frame_0052.png (deflated 0%)\n",
            "  adding: video-1/frame_0097.png (deflated 0%)\n",
            "  adding: video-1/frame_0092.png (deflated 0%)\n",
            "  adding: video-1/frame_0043.png (deflated 0%)\n",
            "  adding: video-1/frame_0014.png (deflated 0%)\n",
            "  adding: video-1/frame_0017.png (deflated 0%)\n",
            "  adding: video-1/frame_0024.png (deflated 0%)\n",
            "  adding: video-1/frame_0039.png (deflated 0%)\n",
            "  adding: video-1/frame_0047.png (deflated 0%)\n",
            "  adding: video-1/frame_0089.png (deflated 0%)\n",
            "  adding: video-1/frame_0067.png (deflated 0%)\n",
            "  adding: video-1/frame_0045.png (deflated 0%)\n",
            "  adding: video-1/frame_0061.png (deflated 0%)\n",
            "  adding: video-1/frame_0023.png (deflated 0%)\n",
            "  adding: video-1/frame_0008.png (deflated 0%)\n",
            "  adding: video-1/frame_0071.png (deflated 0%)\n",
            "  adding: video-1/frame_0060.png (deflated 0%)\n",
            "  adding: video-1/frame_0073.png (deflated 0%)\n",
            "  adding: video-1/frame_0058.png (deflated 0%)\n",
            "  adding: video-1/frame_0099.png (deflated 0%)\n",
            "  adding: video-1/frame_0076.png (deflated 0%)\n",
            "  adding: video-1/frame_0037.png (deflated 0%)\n",
            "  adding: video-1/frame_0018.png (deflated 0%)\n",
            "  adding: video-1/frame_0048.png (deflated 0%)\n",
            "  adding: video-1/frame_0025.png (deflated 0%)\n",
            "  adding: video-1/frame_0011.png (deflated 0%)\n",
            "  adding: video-1/frame_0070.png (deflated 0%)\n",
            "  adding: video-1/frame_0059.png (deflated 0%)\n",
            "  adding: video-1/frame_0031.png (deflated 0%)\n",
            "  adding: video-1/frame_0021.png (deflated 0%)\n",
            "  adding: video-1/frame_0042.png (deflated 0%)\n",
            "  adding: video-1/frame_0010.png (deflated 0%)\n",
            "  adding: video-1/frame_0003.png (deflated 0%)\n",
            "  adding: video-1/frame_0035.png (deflated 0%)\n",
            "  adding: video-1/frame_0032.png (deflated 0%)\n",
            "  adding: video-1/frame_0004.png (deflated 0%)\n",
            "  adding: video-1/frame_0038.png (deflated 0%)\n",
            "  adding: video-1/frame_0034.png (deflated 0%)\n",
            "  adding: video-1/frame_0074.png (deflated 0%)\n",
            "  adding: video-1/frame_0012.png (deflated 0%)\n",
            "  adding: video-1/frame_0066.png (deflated 0%)\n",
            "  adding: video-1/frame_0075.png (deflated 0%)\n",
            "  adding: video-1/frame_0078.png (deflated 0%)\n",
            "  adding: video-1/frame_0091.png (deflated 0%)\n",
            "  adding: video-1/frame_0030.png (deflated 0%)\n",
            "  adding: video-1/frame_0053.png (deflated 0%)\n",
            "  adding: video-1/frame_0002.png (deflated 0%)\n",
            "  adding: video-1/frame_0094.png (deflated 0%)\n",
            "  adding: video-1/frame_0065.png (deflated 0%)\n",
            "  adding: video-1/frame_0020.png (deflated 0%)\n",
            "  adding: video-1/frame_0062.png (deflated 0%)\n",
            "  adding: video-1/frame_0100.png (deflated 0%)\n",
            "  adding: video-1/frame_0064.png (deflated 0%)\n",
            "  adding: video-1/frame_0036.png (deflated 0%)\n",
            "  adding: video-1/frame_0096.png (deflated 0%)\n",
            "  adding: video-1/frame_0085.png (deflated 0%)\n",
            "  adding: video-1/frame_0009.png (deflated 0%)\n",
            "  adding: video-1/frame_0093.png (deflated 0%)\n",
            "  adding: video-1/frame_0054.png (deflated 0%)\n",
            "  adding: video-1/frame_0063.png (deflated 0%)\n",
            "  adding: video-1/frame_0079.png (deflated 0%)\n",
            "  adding: video-1/frame_0029.png (deflated 0%)\n",
            "  adding: video-1/frame_0049.png (deflated 0%)\n",
            "  adding: video-1/frame_0005.png (deflated 0%)\n",
            "  adding: video-1/frame_0013.png (deflated 0%)\n",
            "  adding: video-1/frame_0072.png (deflated 0%)\n",
            "  adding: video-1/frame_0057.png (deflated 0%)\n",
            "  adding: video-1/frame_0051.png (deflated 0%)\n",
            "  adding: video-1/frame_0088.png (deflated 0%)\n",
            "  adding: video-1/frame_0095.png (deflated 0%)\n",
            "  adding: video-1/frame_0098.png (deflated 0%)\n",
            "  adding: video-1/frame_0056.png (deflated 0%)\n",
            "  adding: video-1/frame_0077.png (deflated 0%)\n",
            "  adding: video-1/frame_0015.png (deflated 0%)\n",
            "  adding: video-1/frame_0044.png (deflated 0%)\n",
            "  adding: video-1/frame_0001.png (deflated 0%)\n",
            "  adding: video-1/frame_0046.png (deflated 0%)\n",
            "  adding: video-1/frame_0068.png (deflated 0%)\n",
            "  adding: video-1/frame_0090.png (deflated 0%)\n",
            "  adding: video-1/frame_0026.png (deflated 0%)\n",
            "  adding: video-1/frame_0069.png (deflated 0%)\n",
            "  adding: video-1/frame_0055.png (deflated 0%)\n",
            "  adding: video-1/frame_0081.png (deflated 0%)\n",
            "  adding: video-1/frame_0019.png (deflated 0%)\n",
            "  adding: video-1/frame_0084.png (deflated 0%)\n",
            "  adding: video-1/frame_0007.png (deflated 0%)\n",
            "  adding: video-1/frame_0022.png (deflated 0%)\n",
            "  adding: video-1/frame_0080.png (deflated 0%)\n",
            "  adding: video-1/frame_0087.png (deflated 0%)\n",
            "  adding: video-1/frame_0016.png (deflated 0%)\n",
            "  adding: video-1/frame_0006.png (deflated 0%)\n",
            "  adding: video-1/frame_0040.png (deflated 0%)\n",
            "  adding: video-1/frame_0086.png (deflated 0%)\n",
            "  adding: video-1/frame_0027.png (deflated 0%)\n",
            "  adding: video-1/frame_0050.png (deflated 0%)\n",
            "  adding: video-1/frame_0083.png (deflated 0%)\n",
            "  adding: video-1/frame_0041.png (deflated 0%)\n",
            "  adding: video-1/frame_0033.png (deflated 0%)\n"
          ]
        }
      ]
    },
    {
      "cell_type": "code",
      "source": [
        "from google.colab import files\n",
        "files.download(f\"{video_name}.zip\")"
      ],
      "metadata": {
        "colab": {
          "base_uri": "https://localhost:8080/",
          "height": 17
        },
        "id": "w81Mqq7TgXGY",
        "outputId": "5fb24325-6365-4a6f-db42-27f800243579"
      },
      "execution_count": 19,
      "outputs": [
        {
          "output_type": "display_data",
          "data": {
            "text/plain": [
              "<IPython.core.display.Javascript object>"
            ],
            "application/javascript": [
              "\n",
              "    async function download(id, filename, size) {\n",
              "      if (!google.colab.kernel.accessAllowed) {\n",
              "        return;\n",
              "      }\n",
              "      const div = document.createElement('div');\n",
              "      const label = document.createElement('label');\n",
              "      label.textContent = `Downloading \"${filename}\": `;\n",
              "      div.appendChild(label);\n",
              "      const progress = document.createElement('progress');\n",
              "      progress.max = size;\n",
              "      div.appendChild(progress);\n",
              "      document.body.appendChild(div);\n",
              "\n",
              "      const buffers = [];\n",
              "      let downloaded = 0;\n",
              "\n",
              "      const channel = await google.colab.kernel.comms.open(id);\n",
              "      // Send a message to notify the kernel that we're ready.\n",
              "      channel.send({})\n",
              "\n",
              "      for await (const message of channel.messages) {\n",
              "        // Send a message to notify the kernel that we're ready.\n",
              "        channel.send({})\n",
              "        if (message.buffers) {\n",
              "          for (const buffer of message.buffers) {\n",
              "            buffers.push(buffer);\n",
              "            downloaded += buffer.byteLength;\n",
              "            progress.value = downloaded;\n",
              "          }\n",
              "        }\n",
              "      }\n",
              "      const blob = new Blob(buffers, {type: 'application/binary'});\n",
              "      const a = document.createElement('a');\n",
              "      a.href = window.URL.createObjectURL(blob);\n",
              "      a.download = filename;\n",
              "      div.appendChild(a);\n",
              "      a.click();\n",
              "      div.remove();\n",
              "    }\n",
              "  "
            ]
          },
          "metadata": {}
        },
        {
          "output_type": "display_data",
          "data": {
            "text/plain": [
              "<IPython.core.display.Javascript object>"
            ],
            "application/javascript": [
              "download(\"download_c28e2d84-e206-452f-a27c-4fd9599d7f6b\", \"video-1.zip\", 33436413)"
            ]
          },
          "metadata": {}
        }
      ]
    }
  ]
}