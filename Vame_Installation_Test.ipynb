{
  "nbformat": 4,
  "nbformat_minor": 0,
  "metadata": {
    "colab": {
      "provenance": [],
      "gpuType": "T4"
    },
    "kernelspec": {
      "name": "python3",
      "display_name": "Python 3"
    },
    "language_info": {
      "name": "python"
    },
    "accelerator": "GPU"
  },
  "cells": [
    {
      "cell_type": "code",
      "execution_count": null,
      "metadata": {
        "colab": {
          "base_uri": "https://localhost:8080/"
        },
        "id": "83KU9DuE5kWl",
        "outputId": "6ac8fffd-1b56-4eb6-82fa-a5b863076c4e"
      },
      "outputs": [
        {
          "output_type": "stream",
          "name": "stdout",
          "text": [
            "Drive already mounted at /content/drive; to attempt to forcibly remount, call drive.mount(\"/content/drive\", force_remount=True).\n"
          ]
        }
      ],
      "source": [
        "# Mount drive\n",
        "from google.colab import drive\n",
        "drive.mount('/content/drive')"
      ]
    },
    {
      "cell_type": "code",
      "source": [
        "!nvidia-smi"
      ],
      "metadata": {
        "colab": {
          "base_uri": "https://localhost:8080/"
        },
        "id": "peUZhDUl91E0",
        "outputId": "63569f19-25b0-4b29-fbfc-c243631801b8"
      },
      "execution_count": null,
      "outputs": [
        {
          "output_type": "stream",
          "name": "stdout",
          "text": [
            "Mon Nov 11 05:16:09 2024       \n",
            "+---------------------------------------------------------------------------------------+\n",
            "| NVIDIA-SMI 535.104.05             Driver Version: 535.104.05   CUDA Version: 12.2     |\n",
            "|-----------------------------------------+----------------------+----------------------+\n",
            "| GPU  Name                 Persistence-M | Bus-Id        Disp.A | Volatile Uncorr. ECC |\n",
            "| Fan  Temp   Perf          Pwr:Usage/Cap |         Memory-Usage | GPU-Util  Compute M. |\n",
            "|                                         |                      |               MIG M. |\n",
            "|=========================================+======================+======================|\n",
            "|   0  Tesla T4                       Off | 00000000:00:04.0 Off |                    0 |\n",
            "| N/A   38C    P8              12W /  70W |      3MiB / 15360MiB |      0%      Default |\n",
            "|                                         |                      |                  N/A |\n",
            "+-----------------------------------------+----------------------+----------------------+\n",
            "                                                                                         \n",
            "+---------------------------------------------------------------------------------------+\n",
            "| Processes:                                                                            |\n",
            "|  GPU   GI   CI        PID   Type   Process name                            GPU Memory |\n",
            "|        ID   ID                                                             Usage      |\n",
            "|=======================================================================================|\n",
            "|  No running processes found                                                           |\n",
            "+---------------------------------------------------------------------------------------+\n"
          ]
        }
      ]
    },
    {
      "cell_type": "code",
      "source": [
        "!pip install pytest-shutil scipy numpy matplotlib pathlib pandas ruamel.yaml scikit-learn pyyaml opencv-python-headless h5py umap umap-learn networkx tqdm"
      ],
      "metadata": {
        "colab": {
          "base_uri": "https://localhost:8080/"
        },
        "collapsed": true,
        "id": "cywRsH7U9pt_",
        "outputId": "a6f9dbbe-8645-4137-c324-3957ced45c76"
      },
      "execution_count": null,
      "outputs": [
        {
          "output_type": "stream",
          "name": "stdout",
          "text": [
            "Requirement already satisfied: pytest-shutil in /usr/local/lib/python3.10/dist-packages (1.8.0)\n",
            "Requirement already satisfied: scipy in /usr/local/lib/python3.10/dist-packages (1.13.1)\n",
            "Requirement already satisfied: numpy in /usr/local/lib/python3.10/dist-packages (1.26.4)\n",
            "Requirement already satisfied: matplotlib in /usr/local/lib/python3.10/dist-packages (3.8.0)\n",
            "Requirement already satisfied: pathlib in /usr/local/lib/python3.10/dist-packages (1.0.1)\n",
            "Requirement already satisfied: pandas in /usr/local/lib/python3.10/dist-packages (2.2.2)\n",
            "Requirement already satisfied: ruamel.yaml in /usr/local/lib/python3.10/dist-packages (0.18.6)\n",
            "Requirement already satisfied: scikit-learn in /usr/local/lib/python3.10/dist-packages (1.5.2)\n",
            "Requirement already satisfied: pyyaml in /usr/local/lib/python3.10/dist-packages (6.0.2)\n",
            "Requirement already satisfied: opencv-python-headless in /usr/local/lib/python3.10/dist-packages (4.10.0.84)\n",
            "Requirement already satisfied: h5py in /usr/local/lib/python3.10/dist-packages (3.12.1)\n",
            "Requirement already satisfied: umap in /usr/local/lib/python3.10/dist-packages (0.1.1)\n",
            "Requirement already satisfied: umap-learn in /usr/local/lib/python3.10/dist-packages (0.5.7)\n",
            "Requirement already satisfied: networkx in /usr/local/lib/python3.10/dist-packages (3.4.2)\n",
            "Requirement already satisfied: tqdm in /usr/local/lib/python3.10/dist-packages (4.66.6)\n",
            "Requirement already satisfied: six in /usr/local/lib/python3.10/dist-packages (from pytest-shutil) (1.16.0)\n",
            "Requirement already satisfied: execnet in /usr/local/lib/python3.10/dist-packages (from pytest-shutil) (2.1.1)\n",
            "Requirement already satisfied: pytest in /usr/local/lib/python3.10/dist-packages (from pytest-shutil) (7.4.4)\n",
            "Requirement already satisfied: termcolor in /usr/local/lib/python3.10/dist-packages (from pytest-shutil) (2.5.0)\n",
            "Requirement already satisfied: contourpy>=1.0.1 in /usr/local/lib/python3.10/dist-packages (from matplotlib) (1.3.0)\n",
            "Requirement already satisfied: cycler>=0.10 in /usr/local/lib/python3.10/dist-packages (from matplotlib) (0.12.1)\n",
            "Requirement already satisfied: fonttools>=4.22.0 in /usr/local/lib/python3.10/dist-packages (from matplotlib) (4.54.1)\n",
            "Requirement already satisfied: kiwisolver>=1.0.1 in /usr/local/lib/python3.10/dist-packages (from matplotlib) (1.4.7)\n",
            "Requirement already satisfied: packaging>=20.0 in /usr/local/lib/python3.10/dist-packages (from matplotlib) (24.1)\n",
            "Requirement already satisfied: pillow>=6.2.0 in /usr/local/lib/python3.10/dist-packages (from matplotlib) (10.4.0)\n",
            "Requirement already satisfied: pyparsing>=2.3.1 in /usr/local/lib/python3.10/dist-packages (from matplotlib) (3.2.0)\n",
            "Requirement already satisfied: python-dateutil>=2.7 in /usr/local/lib/python3.10/dist-packages (from matplotlib) (2.8.2)\n",
            "Requirement already satisfied: pytz>=2020.1 in /usr/local/lib/python3.10/dist-packages (from pandas) (2024.2)\n",
            "Requirement already satisfied: tzdata>=2022.7 in /usr/local/lib/python3.10/dist-packages (from pandas) (2024.2)\n",
            "Requirement already satisfied: ruamel.yaml.clib>=0.2.7 in /usr/local/lib/python3.10/dist-packages (from ruamel.yaml) (0.2.12)\n",
            "Requirement already satisfied: joblib>=1.2.0 in /usr/local/lib/python3.10/dist-packages (from scikit-learn) (1.4.2)\n",
            "Requirement already satisfied: threadpoolctl>=3.1.0 in /usr/local/lib/python3.10/dist-packages (from scikit-learn) (3.5.0)\n",
            "Requirement already satisfied: numba>=0.51.2 in /usr/local/lib/python3.10/dist-packages (from umap-learn) (0.60.0)\n",
            "Requirement already satisfied: pynndescent>=0.5 in /usr/local/lib/python3.10/dist-packages (from umap-learn) (0.5.13)\n",
            "Requirement already satisfied: llvmlite<0.44,>=0.43.0dev0 in /usr/local/lib/python3.10/dist-packages (from numba>=0.51.2->umap-learn) (0.43.0)\n",
            "Requirement already satisfied: iniconfig in /usr/local/lib/python3.10/dist-packages (from pytest->pytest-shutil) (2.0.0)\n",
            "Requirement already satisfied: pluggy<2.0,>=0.12 in /usr/local/lib/python3.10/dist-packages (from pytest->pytest-shutil) (1.5.0)\n",
            "Requirement already satisfied: exceptiongroup>=1.0.0rc8 in /usr/local/lib/python3.10/dist-packages (from pytest->pytest-shutil) (1.2.2)\n",
            "Requirement already satisfied: tomli>=1.0.0 in /usr/local/lib/python3.10/dist-packages (from pytest->pytest-shutil) (2.0.2)\n"
          ]
        }
      ]
    },
    {
      "cell_type": "code",
      "source": [
        "# Download VAME\n",
        "!git clone https://github.com/LINCellularNeuroscience/VAME.git"
      ],
      "metadata": {
        "colab": {
          "base_uri": "https://localhost:8080/"
        },
        "collapsed": true,
        "id": "iMvv6BMp_zm9",
        "outputId": "0db336b2-658c-46c0-af91-470c8ac7dad4"
      },
      "execution_count": null,
      "outputs": [
        {
          "output_type": "stream",
          "name": "stdout",
          "text": [
            "Cloning into 'VAME'...\n",
            "remote: Enumerating objects: 1476, done.\u001b[K\n",
            "remote: Counting objects: 100% (365/365), done.\u001b[K\n",
            "remote: Compressing objects: 100% (80/80), done.\u001b[K\n",
            "remote: Total 1476 (delta 318), reused 286 (delta 285), pack-reused 1111 (from 1)\u001b[K\n",
            "Receiving objects: 100% (1476/1476), 24.23 MiB | 9.22 MiB/s, done.\n",
            "Resolving deltas: 100% (888/888), done.\n"
          ]
        }
      ]
    },
    {
      "cell_type": "code",
      "source": [
        "%cd VAME\n",
        "!python setup.py install"
      ],
      "metadata": {
        "colab": {
          "base_uri": "https://localhost:8080/"
        },
        "collapsed": true,
        "id": "0Rfx4SE8ATOC",
        "outputId": "36191bd6-772c-4dc8-ea36-448d160bf243"
      },
      "execution_count": null,
      "outputs": [
        {
          "output_type": "stream",
          "name": "stdout",
          "text": [
            "/content/VAME/VAME/VAME\n",
            "/usr/local/lib/python3.10/dist-packages/setuptools/__init__.py:94: _DeprecatedInstaller: setuptools.installer and fetch_build_eggs are deprecated.\n",
            "!!\n",
            "\n",
            "        ********************************************************************************\n",
            "        Requirements should be satisfied by a PEP 517 installer.\n",
            "        If you are using pip, you can try `pip install --use-pep517`.\n",
            "        ********************************************************************************\n",
            "\n",
            "!!\n",
            "  dist.fetch_build_eggs(dist.setup_requires)\n",
            "running install\n",
            "/usr/local/lib/python3.10/dist-packages/setuptools/_distutils/cmd.py:66: SetuptoolsDeprecationWarning: setup.py install is deprecated.\n",
            "!!\n",
            "\n",
            "        ********************************************************************************\n",
            "        Please avoid running ``setup.py`` directly.\n",
            "        Instead, use pypa/build, pypa/installer or other\n",
            "        standards-based tools.\n",
            "\n",
            "        See https://blog.ganssle.io/articles/2021/10/setup-py-deprecated.html for details.\n",
            "        ********************************************************************************\n",
            "\n",
            "!!\n",
            "  self.initialize_options()\n",
            "/usr/local/lib/python3.10/dist-packages/setuptools/_distutils/cmd.py:66: EasyInstallDeprecationWarning: easy_install command is deprecated.\n",
            "!!\n",
            "\n",
            "        ********************************************************************************\n",
            "        Please avoid running ``setup.py`` and ``easy_install``.\n",
            "        Instead, use pypa/build, pypa/installer or other\n",
            "        standards-based tools.\n",
            "\n",
            "        See https://github.com/pypa/setuptools/issues/917 for details.\n",
            "        ********************************************************************************\n",
            "\n",
            "!!\n",
            "  self.initialize_options()\n",
            "running bdist_egg\n",
            "running egg_info\n",
            "creating vame.egg-info\n",
            "writing vame.egg-info/PKG-INFO\n",
            "writing dependency_links to vame.egg-info/dependency_links.txt\n",
            "writing entry points to vame.egg-info/entry_points.txt\n",
            "writing requirements to vame.egg-info/requires.txt\n",
            "writing top-level names to vame.egg-info/top_level.txt\n",
            "writing manifest file 'vame.egg-info/SOURCES.txt'\n",
            "reading manifest file 'vame.egg-info/SOURCES.txt'\n",
            "adding license file 'LICENSE'\n",
            "writing manifest file 'vame.egg-info/SOURCES.txt'\n",
            "installing library code to build/bdist.linux-x86_64/egg\n",
            "running install_lib\n",
            "running build_py\n",
            "creating build/lib/vame\n",
            "copying vame/__init__.py -> build/lib/vame\n",
            "creating build/lib/vame/model\n",
            "copying vame/model/rnn_model.py -> build/lib/vame/model\n",
            "copying vame/model/rnn_vae.py -> build/lib/vame/model\n",
            "copying vame/model/__init__.py -> build/lib/vame/model\n",
            "copying vame/model/create_training.py -> build/lib/vame/model\n",
            "copying vame/model/evaluate.py -> build/lib/vame/model\n",
            "copying vame/model/dataloader.py -> build/lib/vame/model\n",
            "creating build/lib/vame/util\n",
            "copying vame/util/align_egocentrical.py -> build/lib/vame/util\n",
            "copying vame/util/__init__.py -> build/lib/vame/util\n",
            "copying vame/util/csv_to_npy.py -> build/lib/vame/util\n",
            "copying vame/util/gif_pose_helper.py -> build/lib/vame/util\n",
            "copying vame/util/auxiliary.py -> build/lib/vame/util\n",
            "creating build/lib/vame/initialize_project\n",
            "copying vame/initialize_project/new.py -> build/lib/vame/initialize_project\n",
            "copying vame/initialize_project/__init__.py -> build/lib/vame/initialize_project\n",
            "creating build/lib/vame/analysis\n",
            "copying vame/analysis/tree_hierarchy.py -> build/lib/vame/analysis\n",
            "copying vame/analysis/segment_behavior.py -> build/lib/vame/analysis\n",
            "copying vame/analysis/gif_creator.py -> build/lib/vame/analysis\n",
            "copying vame/analysis/community_analysis.py -> build/lib/vame/analysis\n",
            "copying vame/analysis/generative_functions.py -> build/lib/vame/analysis\n",
            "copying vame/analysis/umap_visualization.py -> build/lib/vame/analysis\n",
            "copying vame/analysis/__init__.py -> build/lib/vame/analysis\n",
            "copying vame/analysis/pose_segmentation.py -> build/lib/vame/analysis\n",
            "copying vame/analysis/videowriter.py -> build/lib/vame/analysis\n",
            "creating build/bdist.linux-x86_64/egg\n",
            "creating build/bdist.linux-x86_64/egg/vame\n",
            "creating build/bdist.linux-x86_64/egg/vame/model\n",
            "copying build/lib/vame/model/rnn_model.py -> build/bdist.linux-x86_64/egg/vame/model\n",
            "copying build/lib/vame/model/rnn_vae.py -> build/bdist.linux-x86_64/egg/vame/model\n",
            "copying build/lib/vame/model/__init__.py -> build/bdist.linux-x86_64/egg/vame/model\n",
            "copying build/lib/vame/model/create_training.py -> build/bdist.linux-x86_64/egg/vame/model\n",
            "copying build/lib/vame/model/evaluate.py -> build/bdist.linux-x86_64/egg/vame/model\n",
            "copying build/lib/vame/model/dataloader.py -> build/bdist.linux-x86_64/egg/vame/model\n",
            "creating build/bdist.linux-x86_64/egg/vame/util\n",
            "copying build/lib/vame/util/align_egocentrical.py -> build/bdist.linux-x86_64/egg/vame/util\n",
            "copying build/lib/vame/util/__init__.py -> build/bdist.linux-x86_64/egg/vame/util\n",
            "copying build/lib/vame/util/csv_to_npy.py -> build/bdist.linux-x86_64/egg/vame/util\n",
            "copying build/lib/vame/util/gif_pose_helper.py -> build/bdist.linux-x86_64/egg/vame/util\n",
            "copying build/lib/vame/util/auxiliary.py -> build/bdist.linux-x86_64/egg/vame/util\n",
            "copying build/lib/vame/__init__.py -> build/bdist.linux-x86_64/egg/vame\n",
            "creating build/bdist.linux-x86_64/egg/vame/initialize_project\n",
            "copying build/lib/vame/initialize_project/new.py -> build/bdist.linux-x86_64/egg/vame/initialize_project\n",
            "copying build/lib/vame/initialize_project/__init__.py -> build/bdist.linux-x86_64/egg/vame/initialize_project\n",
            "creating build/bdist.linux-x86_64/egg/vame/analysis\n",
            "copying build/lib/vame/analysis/tree_hierarchy.py -> build/bdist.linux-x86_64/egg/vame/analysis\n",
            "copying build/lib/vame/analysis/segment_behavior.py -> build/bdist.linux-x86_64/egg/vame/analysis\n",
            "copying build/lib/vame/analysis/gif_creator.py -> build/bdist.linux-x86_64/egg/vame/analysis\n",
            "copying build/lib/vame/analysis/community_analysis.py -> build/bdist.linux-x86_64/egg/vame/analysis\n",
            "copying build/lib/vame/analysis/generative_functions.py -> build/bdist.linux-x86_64/egg/vame/analysis\n",
            "copying build/lib/vame/analysis/umap_visualization.py -> build/bdist.linux-x86_64/egg/vame/analysis\n",
            "copying build/lib/vame/analysis/__init__.py -> build/bdist.linux-x86_64/egg/vame/analysis\n",
            "copying build/lib/vame/analysis/pose_segmentation.py -> build/bdist.linux-x86_64/egg/vame/analysis\n",
            "copying build/lib/vame/analysis/videowriter.py -> build/bdist.linux-x86_64/egg/vame/analysis\n",
            "byte-compiling build/bdist.linux-x86_64/egg/vame/model/rnn_model.py to rnn_model.cpython-310.pyc\n",
            "byte-compiling build/bdist.linux-x86_64/egg/vame/model/rnn_vae.py to rnn_vae.cpython-310.pyc\n",
            "byte-compiling build/bdist.linux-x86_64/egg/vame/model/__init__.py to __init__.cpython-310.pyc\n",
            "byte-compiling build/bdist.linux-x86_64/egg/vame/model/create_training.py to create_training.cpython-310.pyc\n",
            "byte-compiling build/bdist.linux-x86_64/egg/vame/model/evaluate.py to evaluate.cpython-310.pyc\n",
            "byte-compiling build/bdist.linux-x86_64/egg/vame/model/dataloader.py to dataloader.cpython-310.pyc\n",
            "byte-compiling build/bdist.linux-x86_64/egg/vame/util/align_egocentrical.py to align_egocentrical.cpython-310.pyc\n",
            "byte-compiling build/bdist.linux-x86_64/egg/vame/util/__init__.py to __init__.cpython-310.pyc\n",
            "byte-compiling build/bdist.linux-x86_64/egg/vame/util/csv_to_npy.py to csv_to_npy.cpython-310.pyc\n",
            "byte-compiling build/bdist.linux-x86_64/egg/vame/util/gif_pose_helper.py to gif_pose_helper.cpython-310.pyc\n",
            "byte-compiling build/bdist.linux-x86_64/egg/vame/util/auxiliary.py to auxiliary.cpython-310.pyc\n",
            "byte-compiling build/bdist.linux-x86_64/egg/vame/__init__.py to __init__.cpython-310.pyc\n",
            "byte-compiling build/bdist.linux-x86_64/egg/vame/initialize_project/new.py to new.cpython-310.pyc\n",
            "byte-compiling build/bdist.linux-x86_64/egg/vame/initialize_project/__init__.py to __init__.cpython-310.pyc\n",
            "byte-compiling build/bdist.linux-x86_64/egg/vame/analysis/tree_hierarchy.py to tree_hierarchy.cpython-310.pyc\n",
            "byte-compiling build/bdist.linux-x86_64/egg/vame/analysis/segment_behavior.py to segment_behavior.cpython-310.pyc\n",
            "byte-compiling build/bdist.linux-x86_64/egg/vame/analysis/gif_creator.py to gif_creator.cpython-310.pyc\n",
            "byte-compiling build/bdist.linux-x86_64/egg/vame/analysis/community_analysis.py to community_analysis.cpython-310.pyc\n",
            "byte-compiling build/bdist.linux-x86_64/egg/vame/analysis/generative_functions.py to generative_functions.cpython-310.pyc\n",
            "byte-compiling build/bdist.linux-x86_64/egg/vame/analysis/umap_visualization.py to umap_visualization.cpython-310.pyc\n",
            "byte-compiling build/bdist.linux-x86_64/egg/vame/analysis/__init__.py to __init__.cpython-310.pyc\n",
            "byte-compiling build/bdist.linux-x86_64/egg/vame/analysis/pose_segmentation.py to pose_segmentation.cpython-310.pyc\n",
            "byte-compiling build/bdist.linux-x86_64/egg/vame/analysis/videowriter.py to videowriter.cpython-310.pyc\n",
            "creating build/bdist.linux-x86_64/egg/EGG-INFO\n",
            "copying vame.egg-info/PKG-INFO -> build/bdist.linux-x86_64/egg/EGG-INFO\n",
            "copying vame.egg-info/SOURCES.txt -> build/bdist.linux-x86_64/egg/EGG-INFO\n",
            "copying vame.egg-info/dependency_links.txt -> build/bdist.linux-x86_64/egg/EGG-INFO\n",
            "copying vame.egg-info/entry_points.txt -> build/bdist.linux-x86_64/egg/EGG-INFO\n",
            "copying vame.egg-info/requires.txt -> build/bdist.linux-x86_64/egg/EGG-INFO\n",
            "copying vame.egg-info/top_level.txt -> build/bdist.linux-x86_64/egg/EGG-INFO\n",
            "zip_safe flag not set; analyzing archive contents...\n",
            "creating dist\n",
            "creating 'dist/vame-1.0-py3.10.egg' and adding 'build/bdist.linux-x86_64/egg' to it\n",
            "removing 'build/bdist.linux-x86_64/egg' (and everything under it)\n",
            "Processing vame-1.0-py3.10.egg\n",
            "Removing /usr/local/lib/python3.10/dist-packages/vame-1.0-py3.10.egg\n",
            "Copying vame-1.0-py3.10.egg to /usr/local/lib/python3.10/dist-packages\n",
            "Adding vame 1.0 to easy-install.pth file\n",
            "Installing vame script to /usr/local/bin\n",
            "\n",
            "Installed /usr/local/lib/python3.10/dist-packages/vame-1.0-py3.10.egg\n",
            "Processing dependencies for vame==1.0\n",
            "Searching for sklearn\n",
            "Reading https://pypi.org/simple/sklearn/\n",
            "Downloading https://files.pythonhosted.org/packages/46/1c/395a83ee7b2d2ad7a05b453872053d41449564477c81dc356f720b16eac4/sklearn-0.0.post12.tar.gz#sha256=54cff9e20839b7b202321178228af4d9388bedf78425d9299fd9ee170d68802e\n",
            "Best match: sklearn 0.0.post12\n",
            "Processing sklearn-0.0.post12.tar.gz\n",
            "Writing /tmp/easy_install-zh67r3ty/sklearn-0.0.post12/setup.cfg\n",
            "Running sklearn-0.0.post12/setup.py -q bdist_egg --dist-dir /tmp/easy_install-zh67r3ty/sklearn-0.0.post12/egg-dist-tmp-rw540wld\n",
            "error: Setup script exited with The 'sklearn' PyPI package is deprecated, use 'scikit-learn'\n",
            "rather than 'sklearn' for pip commands. \n",
            "\n",
            "Here is how to fix this error in the main use cases:\n",
            "- use 'pip install scikit-learn' rather than 'pip install sklearn'\n",
            "- replace 'sklearn' by 'scikit-learn' in your pip requirements files\n",
            "  (requirements.txt, setup.py, setup.cfg, Pipfile, etc ...)\n",
            "- if the 'sklearn' package is used by one of your dependencies,\n",
            "  it would be great if you take some time to track which package uses\n",
            "  'sklearn' instead of 'scikit-learn' and report it to their issue tracker\n",
            "- as a last resort, set the environment variable\n",
            "  SKLEARN_ALLOW_DEPRECATED_SKLEARN_PACKAGE_INSTALL=True to avoid this error\n",
            "\n",
            "More information is available at\n",
            "https://github.com/scikit-learn/sklearn-pypi-package\n"
          ]
        }
      ]
    },
    {
      "cell_type": "code",
      "source": [
        "!pip install hmmlearn"
      ],
      "metadata": {
        "colab": {
          "base_uri": "https://localhost:8080/"
        },
        "collapsed": true,
        "id": "dWyfOmdbMTFe",
        "outputId": "76ee2f93-905e-43d2-b806-80e8c2c878da"
      },
      "execution_count": null,
      "outputs": [
        {
          "output_type": "stream",
          "name": "stdout",
          "text": [
            "Requirement already satisfied: hmmlearn in /usr/local/lib/python3.10/dist-packages (0.3.3)\n",
            "Requirement already satisfied: numpy>=1.10 in /usr/local/lib/python3.10/dist-packages (from hmmlearn) (1.26.4)\n",
            "Requirement already satisfied: scikit-learn!=0.22.0,>=0.16 in /usr/local/lib/python3.10/dist-packages (from hmmlearn) (1.5.2)\n",
            "Requirement already satisfied: scipy>=0.19 in /usr/local/lib/python3.10/dist-packages (from hmmlearn) (1.13.1)\n",
            "Requirement already satisfied: joblib>=1.2.0 in /usr/local/lib/python3.10/dist-packages (from scikit-learn!=0.22.0,>=0.16->hmmlearn) (1.4.2)\n",
            "Requirement already satisfied: threadpoolctl>=3.1.0 in /usr/local/lib/python3.10/dist-packages (from scikit-learn!=0.22.0,>=0.16->hmmlearn) (3.5.0)\n"
          ]
        }
      ]
    },
    {
      "cell_type": "code",
      "source": [
        "import vame"
      ],
      "metadata": {
        "collapsed": true,
        "id": "885nZGwKCDQa"
      },
      "execution_count": null,
      "outputs": []
    },
    {
      "cell_type": "code",
      "source": [
        "project = 'NewVAMEProject_20241124'"
      ],
      "metadata": {
        "id": "1wK-8KwGimsd"
      },
      "execution_count": null,
      "outputs": []
    },
    {
      "cell_type": "markdown",
      "source": [],
      "metadata": {
        "id": "KVCD2Aw0WfuG"
      }
    },
    {
      "cell_type": "code",
      "source": [
        "working_directory = '/content/drive/MyDrive/VAME_Example'"
      ],
      "metadata": {
        "id": "4MTA2PRuHf5P"
      },
      "execution_count": null,
      "outputs": []
    },
    {
      "cell_type": "code",
      "source": [
        "# videos = '/content/drive/MyDrive/VAME_Example/video-1.mp4'\n",
        "videos = [r'/content/drive/MyDrive/tracking-Atanu Giri-2024-10-08/videos/Trial1_bottom_left.mp4'] # We need it in list format."
      ],
      "metadata": {
        "id": "8GkFiz5THg_3"
      },
      "execution_count": null,
      "outputs": []
    },
    {
      "cell_type": "code",
      "source": [
        "config = vame.init_new_project(project=project, videos=videos, working_directory=working_directory, videotype='.mp4')"
      ],
      "metadata": {
        "colab": {
          "base_uri": "https://localhost:8080/"
        },
        "id": "5E47pAgcjwgI",
        "outputId": "01e4994b-1ee5-493a-98af-e7a35c2fe4d7"
      },
      "execution_count": null,
      "outputs": [
        {
          "output_type": "stream",
          "name": "stdout",
          "text": [
            "Created \"/content/drive/MyDrive/VAME_Example/NewVAMEProject_20241124-Nov11-2024/videos\"\n",
            "Created \"/content/drive/MyDrive/VAME_Example/NewVAMEProject_20241124-Nov11-2024/data\"\n",
            "Created \"/content/drive/MyDrive/VAME_Example/NewVAMEProject_20241124-Nov11-2024/results\"\n",
            "Created \"/content/drive/MyDrive/VAME_Example/NewVAMEProject_20241124-Nov11-2024/model\"\n",
            "Copying the videos \n",
            "\n",
            "A VAME project has been created. \n",
            "\n",
            "Now its time to prepare your data for VAME. The first step is to move your pose .csv file (e.g. DeepLabCut .csv) into the //YOUR//VAME//PROJECT//videos//pose_estimation folder. From here you can call either the function vame.egocentric_alignment() or if your data is by design egocentric call vame.csv_to_numpy(). This will prepare the data in .csv into the right format to start working with VAME.\n"
          ]
        }
      ]
    },
    {
      "cell_type": "code",
      "source": [
        "config = working_directory+'/'+'NewVAMEProject_20241124-Nov10-2024/config.yaml'"
      ],
      "metadata": {
        "id": "TFqppNeiQJ3U"
      },
      "execution_count": null,
      "outputs": []
    },
    {
      "cell_type": "code",
      "source": [
        "print(config)"
      ],
      "metadata": {
        "colab": {
          "base_uri": "https://localhost:8080/"
        },
        "id": "jArTke22VaJx",
        "outputId": "92c4020e-9ee0-4358-9bb4-a75a8abb3551"
      },
      "execution_count": null,
      "outputs": [
        {
          "output_type": "stream",
          "name": "stdout",
          "text": [
            "/content/drive/MyDrive/VAME_Example/NewVAMEProject_20241124-Nov10-2024/config.yaml\n"
          ]
        }
      ]
    },
    {
      "cell_type": "code",
      "source": [
        "vame.update_config(config)"
      ],
      "metadata": {
        "colab": {
          "base_uri": "https://localhost:8080/"
        },
        "id": "X_4irKF3UUlS",
        "outputId": "9beff220-357d-463e-eb78-62a7b2413241"
      },
      "execution_count": null,
      "outputs": [
        {
          "output_type": "stream",
          "name": "stdout",
          "text": [
            "ATTENTION! You are about to overwrite your current config.yaml. If you did changes, back up your current version and compare to the updated version. Do you want to continue? (yes/no)yes\n",
            "Your config.yaml has been updated.\n"
          ]
        }
      ]
    },
    {
      "cell_type": "code",
      "source": [
        "# import pandas as pd\n",
        "# import numpy as np\n",
        "\n",
        "# # Load the CSV file\n",
        "# csv_path = '/content/drive/MyDrive/VAME_Example/NewVAMEProject_20241124-Nov10-2024/videos/pose_estimation/Trial1_bottom_left.csv'\n",
        "# data = pd.read_csv(csv_path, skiprows=3, header=None)\n",
        "\n",
        "# # Drop rows and columns that are all NaN\n",
        "# data_cleaned = data.dropna(how='all').dropna(axis=1, how='all')\n",
        "\n",
        "# # Optional: Interpolate NaN values for each column\n",
        "# data_cleaned = data_cleaned.interpolate(method='linear', axis=0).fillna(method='bfill').fillna(method='ffill')\n",
        "\n",
        "# # Save the cleaned CSV back to the same location (or specify a new path)\n",
        "# data_cleaned.to_csv(csv_path, index=False, header=False)\n",
        "# print(\"CSV file cleaned and saved.\")"
      ],
      "metadata": {
        "colab": {
          "base_uri": "https://localhost:8080/"
        },
        "id": "jJOrkkzXeD3p",
        "outputId": "3d69ab4f-0ab8-4e08-9591-fc231c7ca84d"
      },
      "execution_count": null,
      "outputs": [
        {
          "output_type": "stream",
          "name": "stdout",
          "text": [
            "CSV file cleaned and saved.\n"
          ]
        },
        {
          "output_type": "stream",
          "name": "stderr",
          "text": [
            "<ipython-input-61-e81f36a29b2c>:12: FutureWarning: DataFrame.fillna with 'method' is deprecated and will raise in a future version. Use obj.ffill() or obj.bfill() instead.\n",
            "  data_cleaned = data_cleaned.interpolate(method='linear', axis=0).fillna(method='bfill').fillna(method='ffill')\n"
          ]
        }
      ]
    },
    {
      "cell_type": "code",
      "source": [
        "vame.csv_to_numpy(config)"
      ],
      "metadata": {
        "colab": {
          "base_uri": "https://localhost:8080/",
          "height": 537
        },
        "id": "_uIfMHjfZ-Lr",
        "outputId": "7811aaf8-0d0b-43d1-bfe1-31f47dc9661e"
      },
      "execution_count": null,
      "outputs": [
        {
          "output_type": "stream",
          "name": "stdout",
          "text": [
            "Trial1_bottom_left\n"
          ]
        },
        {
          "output_type": "error",
          "ename": "ValueError",
          "evalue": "array of sample points is empty",
          "traceback": [
            "\u001b[0;31m---------------------------------------------------------------------------\u001b[0m",
            "\u001b[0;31mValueError\u001b[0m                                Traceback (most recent call last)",
            "\u001b[0;32m<ipython-input-87-c5c551255238>\u001b[0m in \u001b[0;36m<cell line: 1>\u001b[0;34m()\u001b[0m\n\u001b[0;32m----> 1\u001b[0;31m \u001b[0mvame\u001b[0m\u001b[0;34m.\u001b[0m\u001b[0mcsv_to_numpy\u001b[0m\u001b[0;34m(\u001b[0m\u001b[0mconfig\u001b[0m\u001b[0;34m)\u001b[0m\u001b[0;34m\u001b[0m\u001b[0;34m\u001b[0m\u001b[0m\n\u001b[0m",
            "\u001b[0;32m/content/VAME/vame/util/csv_to_npy.py\u001b[0m in \u001b[0;36mcsv_to_numpy\u001b[0;34m(config)\u001b[0m\n\u001b[1;32m     76\u001b[0m             \u001b[0;32mfor\u001b[0m \u001b[0mj\u001b[0m \u001b[0;32min\u001b[0m \u001b[0mrange\u001b[0m\u001b[0;34m(\u001b[0m\u001b[0mpose_segment\u001b[0m\u001b[0;34m.\u001b[0m\u001b[0mshape\u001b[0m\u001b[0;34m[\u001b[0m\u001b[0;36m0\u001b[0m\u001b[0;34m]\u001b[0m\u001b[0;34m)\u001b[0m\u001b[0;34m:\u001b[0m\u001b[0;34m\u001b[0m\u001b[0;34m\u001b[0m\u001b[0m\n\u001b[1;32m     77\u001b[0m                 \u001b[0;32mif\u001b[0m \u001b[0mpose_segment\u001b[0m\u001b[0;34m[\u001b[0m\u001b[0mj\u001b[0m\u001b[0;34m,\u001b[0m \u001b[0;36m2\u001b[0m\u001b[0;34m]\u001b[0m \u001b[0;34m<=\u001b[0m \u001b[0mconfidence\u001b[0m\u001b[0;34m:\u001b[0m\u001b[0;34m\u001b[0m\u001b[0;34m\u001b[0m\u001b[0m\n\u001b[0;32m---> 78\u001b[0;31m                     \u001b[0mpose_segment\u001b[0m\u001b[0;34m[\u001b[0m\u001b[0mj\u001b[0m\u001b[0;34m,\u001b[0m \u001b[0;36m0\u001b[0m\u001b[0;34m]\u001b[0m\u001b[0;34m,\u001b[0m \u001b[0mpose_segment\u001b[0m\u001b[0;34m[\u001b[0m\u001b[0mj\u001b[0m\u001b[0;34m,\u001b[0m \u001b[0;36m1\u001b[0m\u001b[0;34m]\u001b[0m \u001b[0;34m=\u001b[0m \u001b[0mnp\u001b[0m\u001b[0;34m.\u001b[0m\u001b[0mnan\u001b[0m\u001b[0;34m,\u001b[0m \u001b[0mnp\u001b[0m\u001b[0;34m.\u001b[0m\u001b[0mnan\u001b[0m\u001b[0;34m\u001b[0m\u001b[0;34m\u001b[0m\u001b[0m\n\u001b[0m\u001b[1;32m     79\u001b[0m \u001b[0;34m\u001b[0m\u001b[0m\n\u001b[1;32m     80\u001b[0m             \u001b[0;31m# Check again after NaN replacement to ensure we still have valid data\u001b[0m\u001b[0;34m\u001b[0m\u001b[0;34m\u001b[0m\u001b[0m\n",
            "\u001b[0;32m/content/VAME/vame/util/csv_to_npy.py\u001b[0m in \u001b[0;36minterpol\u001b[0;34m(arr)\u001b[0m\n\u001b[1;32m     28\u001b[0m         \u001b[0mnans\u001b[0m\u001b[0;34m,\u001b[0m \u001b[0mx\u001b[0m \u001b[0;34m=\u001b[0m \u001b[0mnan_helper\u001b[0m\u001b[0;34m(\u001b[0m\u001b[0my\u001b[0m\u001b[0;34m[\u001b[0m\u001b[0mi\u001b[0m\u001b[0;34m]\u001b[0m\u001b[0;34m)\u001b[0m\u001b[0;34m\u001b[0m\u001b[0;34m\u001b[0m\u001b[0m\n\u001b[1;32m     29\u001b[0m \u001b[0;34m\u001b[0m\u001b[0m\n\u001b[0;32m---> 30\u001b[0;31m         \u001b[0;31m# Only attempt interpolation if there are non-NaN values available\u001b[0m\u001b[0;34m\u001b[0m\u001b[0;34m\u001b[0m\u001b[0m\n\u001b[0m\u001b[1;32m     31\u001b[0m         \u001b[0;32mif\u001b[0m \u001b[0mnp\u001b[0m\u001b[0;34m.\u001b[0m\u001b[0many\u001b[0m\u001b[0;34m(\u001b[0m\u001b[0;34m~\u001b[0m\u001b[0mnans\u001b[0m\u001b[0;34m)\u001b[0m\u001b[0;34m:\u001b[0m\u001b[0;34m\u001b[0m\u001b[0;34m\u001b[0m\u001b[0m\n\u001b[1;32m     32\u001b[0m             \u001b[0;32mtry\u001b[0m\u001b[0;34m:\u001b[0m\u001b[0;34m\u001b[0m\u001b[0;34m\u001b[0m\u001b[0m\n",
            "\u001b[0;32m/usr/local/lib/python3.10/dist-packages/numpy/lib/function_base.py\u001b[0m in \u001b[0;36minterp\u001b[0;34m(x, xp, fp, left, right, period)\u001b[0m\n\u001b[1;32m   1597\u001b[0m         \u001b[0mfp\u001b[0m \u001b[0;34m=\u001b[0m \u001b[0mnp\u001b[0m\u001b[0;34m.\u001b[0m\u001b[0mconcatenate\u001b[0m\u001b[0;34m(\u001b[0m\u001b[0;34m(\u001b[0m\u001b[0mfp\u001b[0m\u001b[0;34m[\u001b[0m\u001b[0;34m-\u001b[0m\u001b[0;36m1\u001b[0m\u001b[0;34m:\u001b[0m\u001b[0;34m]\u001b[0m\u001b[0;34m,\u001b[0m \u001b[0mfp\u001b[0m\u001b[0;34m,\u001b[0m \u001b[0mfp\u001b[0m\u001b[0;34m[\u001b[0m\u001b[0;36m0\u001b[0m\u001b[0;34m:\u001b[0m\u001b[0;36m1\u001b[0m\u001b[0;34m]\u001b[0m\u001b[0;34m)\u001b[0m\u001b[0;34m)\u001b[0m\u001b[0;34m\u001b[0m\u001b[0;34m\u001b[0m\u001b[0m\n\u001b[1;32m   1598\u001b[0m \u001b[0;34m\u001b[0m\u001b[0m\n\u001b[0;32m-> 1599\u001b[0;31m     \u001b[0;32mreturn\u001b[0m \u001b[0minterp_func\u001b[0m\u001b[0;34m(\u001b[0m\u001b[0mx\u001b[0m\u001b[0;34m,\u001b[0m \u001b[0mxp\u001b[0m\u001b[0;34m,\u001b[0m \u001b[0mfp\u001b[0m\u001b[0;34m,\u001b[0m \u001b[0mleft\u001b[0m\u001b[0;34m,\u001b[0m \u001b[0mright\u001b[0m\u001b[0;34m)\u001b[0m\u001b[0;34m\u001b[0m\u001b[0;34m\u001b[0m\u001b[0m\n\u001b[0m\u001b[1;32m   1600\u001b[0m \u001b[0;34m\u001b[0m\u001b[0m\n\u001b[1;32m   1601\u001b[0m \u001b[0;34m\u001b[0m\u001b[0m\n",
            "\u001b[0;31mValueError\u001b[0m: array of sample points is empty"
          ]
        }
      ]
    },
    {
      "cell_type": "code",
      "source": [
        "import pandas as pd\n",
        "import numpy as np\n",
        "\n",
        "# Load the CSV file\n",
        "csv_path = '/content/drive/MyDrive/VAME_Example/NewVAMEProject_20241124-Nov10-2024/videos/pose_estimation/Trial1_bottom_left.csv'\n",
        "data = pd.read_csv(csv_path, skiprows=3, header=None)\n",
        "\n",
        "# Display the first few rows to understand the structure\n",
        "print(\"Data Preview:\")\n",
        "print(data.head())\n",
        "\n",
        "# Check for any completely empty rows or columns\n",
        "print(\"\\nChecking for empty rows or columns:\")\n",
        "empty_rows = data.isnull().all(axis=1).sum()\n",
        "empty_columns = data.isnull().all(axis=0).sum()\n",
        "print(f\"Empty rows: {empty_rows}\")\n",
        "print(f\"Empty columns: {empty_columns}\")\n",
        "\n",
        "# Check for any rows or columns that contain only NaN values in the x and y coordinates (first two columns)\n",
        "xy_empty_rows = data.iloc[:, :2].isnull().all(axis=1).sum()\n",
        "xy_empty_columns = data.iloc[:, :2].isnull().all()\n",
        "print(f\"Rows with NaN in x and y coordinates: {xy_empty_rows}\")\n",
        "print(f\"Columns with NaN in x and y coordinates: {xy_empty_columns}\")\n",
        "\n",
        "# Check for low-confidence values, if the confidence column is present (assuming the 3rd column is confidence)\n",
        "if data.shape[1] > 2:\n",
        "    confidence_threshold = 0.5  # Adjust as necessary\n",
        "    low_confidence = (data.iloc[:, 2] <= confidence_threshold).sum()\n",
        "    print(f\"Low-confidence entries (confidence <= {confidence_threshold}): {low_confidence}\")\n",
        "\n",
        "# Summary of NaN distribution\n",
        "print(\"\\nNaN Distribution in Dataset:\")\n",
        "print(data.isnull().sum())\n"
      ],
      "metadata": {
        "colab": {
          "base_uri": "https://localhost:8080/"
        },
        "id": "VocF2whlinSN",
        "outputId": "68ed1139-e15e-422a-9bcc-4221206a2403"
      },
      "execution_count": null,
      "outputs": [
        {
          "output_type": "stream",
          "name": "stdout",
          "text": [
            "Data Preview:\n",
            "   0           1          2         3           4          5         6   \\\n",
            "0   0  130.062347  94.295456  0.968316  118.463844  96.021370  0.870210   \n",
            "1   1  129.849991  93.780258  0.967799  118.433952  95.947800  0.860925   \n",
            "2   2  129.900497  94.094345  0.968488  118.773926  96.281075  0.870774   \n",
            "3   3  130.004333  93.436859  0.966833  122.608620  96.905319  0.847413   \n",
            "4   4  130.049164  93.367233  0.966241  122.549019  96.831284  0.846257   \n",
            "\n",
            "           7          8         9           10          11        12  \n",
            "0  139.465073  89.423019  0.819133  166.353882  180.432693  0.971218  \n",
            "1  139.055862  89.077194  0.816900  166.179382  180.503708  0.969450  \n",
            "2  139.107605  89.277184  0.817762  166.173676  180.502640  0.969929  \n",
            "3  139.163345  88.660675  0.809434  165.993469  180.329758  0.972108  \n",
            "4  139.216217  88.689232  0.808231  166.006378  180.334152  0.972025  \n",
            "\n",
            "Checking for empty rows or columns:\n",
            "Empty rows: 0\n",
            "Empty columns: 0\n",
            "Rows with NaN in x and y coordinates: 0\n",
            "Columns with NaN in x and y coordinates: 0    False\n",
            "1    False\n",
            "dtype: bool\n",
            "Low-confidence entries (confidence <= 0.5): 0\n",
            "\n",
            "NaN Distribution in Dataset:\n",
            "0     0\n",
            "1     0\n",
            "2     0\n",
            "3     0\n",
            "4     0\n",
            "5     0\n",
            "6     0\n",
            "7     0\n",
            "8     0\n",
            "9     0\n",
            "10    0\n",
            "11    0\n",
            "12    0\n",
            "dtype: int64\n"
          ]
        }
      ]
    }
  ]
}